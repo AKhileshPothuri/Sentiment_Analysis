{
 "cells": [
  {
   "cell_type": "code",
   "execution_count": 1,
   "metadata": {},
   "outputs": [
    {
     "name": "stdout",
     "output_type": "stream",
     "text": [
      "[nltk_data] Downloading package stopwords to\n",
      "[nltk_data]     C:\\Users\\DELL\\AppData\\Roaming\\nltk_data...\n",
      "[nltk_data]   Package stopwords is already up-to-date!\n"
     ]
    },
    {
     "name": "stderr",
     "output_type": "stream",
     "text": [
      "C:\\Users\\DELL\\Anaconda3\\lib\\site-packages\\ipykernel_launcher.py:39: DeprecationWarning: \n",
      ".ix is deprecated. Please use\n",
      ".loc for label based indexing or\n",
      ".iloc for positional indexing\n",
      "\n",
      "See the documentation here:\n",
      "http://pandas.pydata.org/pandas-docs/stable/indexing.html#ix-indexer-is-deprecated\n"
     ]
    }
   ],
   "source": [
    "import pandas as pd\n",
    "import nltk\n",
    "import re\n",
    "from nltk.corpus import stopwords\n",
    "from nltk.tokenize import word_tokenize\n",
    "from nltk.tokenize import RegexpTokenizer\n",
    "\n",
    "\n",
    "df = pd.read_csv(\"train.csv\")\n",
    "nltk.download('stopwords')\n",
    "\n",
    "i = nltk.corpus.stopwords.words('english')\n",
    "\n",
    "stopwords = set(i)\n",
    "\n",
    "stopwords.remove(\"not\")\n",
    "stopwords.remove(\"against\")\n",
    "stopwords.remove(\"no\")\n",
    "\n",
    "def preprocess(x):\n",
    "    \n",
    "    if(type(x)==str):\n",
    "        x = re.sub('[^a-z\\s]', '', x.lower())\n",
    "        x = re.sub(r'[^\\w\\s]', \"\", x)\n",
    "        x = [w for w in x.split() if w not in set(stopwords)]\n",
    "        return x     \n",
    "\n",
    "\n",
    "\n",
    "\n",
    "g=[]\n",
    "for i in range(0,len(df)):\n",
    "    y = preprocess(df['text'][i])\n",
    "    g.append(y)\n",
    "\n",
    "count = 0\n",
    "for i in g:\n",
    "    t = \" \".join(i)\n",
    "    df.ix[count,'text']=t\n",
    "    count+=1\n",
    "\n",
    "df.to_csv('preprocessed.csv')"
   ]
  },
  {
   "cell_type": "code",
   "execution_count": null,
   "metadata": {},
   "outputs": [],
   "source": []
  }
 ],
 "metadata": {
  "kernelspec": {
   "display_name": "Python 3",
   "language": "python",
   "name": "python3"
  },
  "language_info": {
   "codemirror_mode": {
    "name": "ipython",
    "version": 3
   },
   "file_extension": ".py",
   "mimetype": "text/x-python",
   "name": "python",
   "nbconvert_exporter": "python",
   "pygments_lexer": "ipython3",
   "version": "3.6.5"
  }
 },
 "nbformat": 4,
 "nbformat_minor": 2
}
